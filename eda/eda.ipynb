{
 "cells": [
  {
   "cell_type": "code",
   "execution_count": 261,
   "id": "7571ca54",
   "metadata": {},
   "outputs": [
    {
     "name": "stdout",
     "output_type": "stream",
     "text": [
      "The autoreload extension is already loaded. To reload it, use:\n",
      "  %reload_ext autoreload\n"
     ]
    }
   ],
   "source": [
    "# Enable autoreload for development\n",
    "%load_ext autoreload\n",
    "%autoreload 2"
   ]
  },
  {
   "cell_type": "code",
   "execution_count": 262,
   "id": "80dc12db",
   "metadata": {},
   "outputs": [],
   "source": [
    "# Setup\n",
    "import os\n",
    "import sys\n",
    "import matplotlib.pyplot as plt\n",
    "import seaborn as sns\n",
    "import pandas as pd"
   ]
  },
  {
   "cell_type": "code",
   "execution_count": 263,
   "id": "74e39bbe",
   "metadata": {},
   "outputs": [],
   "source": [
    "sys.path.append(os.path.abspath(os.path.join(os.getcwd(), '..')))"
   ]
  },
  {
   "cell_type": "code",
   "execution_count": 264,
   "id": "7d6e151e",
   "metadata": {},
   "outputs": [],
   "source": [
    "# Load and clean data\n",
    "from src.load_data import load_data"
   ]
  },
  {
   "cell_type": "code",
   "execution_count": 265,
   "id": "e92e5f27",
   "metadata": {},
   "outputs": [
    {
     "data": {
      "text/html": [
       "<div>\n",
       "<style scoped>\n",
       "    .dataframe tbody tr th:only-of-type {\n",
       "        vertical-align: middle;\n",
       "    }\n",
       "\n",
       "    .dataframe tbody tr th {\n",
       "        vertical-align: top;\n",
       "    }\n",
       "\n",
       "    .dataframe thead th {\n",
       "        text-align: right;\n",
       "    }\n",
       "</style>\n",
       "<table border=\"1\" class=\"dataframe\">\n",
       "  <thead>\n",
       "    <tr style=\"text-align: right;\">\n",
       "      <th></th>\n",
       "      <th>No.</th>\n",
       "      <th>Diameter (mm)</th>\n",
       "      <th>Speed (rpm)</th>\n",
       "      <th>Feed (mm/rev)</th>\n",
       "      <th>Thrust force (N)</th>\n",
       "      <th>Torque (Nm)</th>\n",
       "      <th>Flank wear (mm)</th>\n",
       "      <th>Workpiece</th>\n",
       "    </tr>\n",
       "  </thead>\n",
       "  <tbody>\n",
       "    <tr>\n",
       "      <th>0</th>\n",
       "      <td>1</td>\n",
       "      <td>9.0</td>\n",
       "      <td>500</td>\n",
       "      <td>0.13</td>\n",
       "      <td>1088.1</td>\n",
       "      <td>10.67</td>\n",
       "      <td>0.10</td>\n",
       "      <td>cast iron</td>\n",
       "    </tr>\n",
       "    <tr>\n",
       "      <th>1</th>\n",
       "      <td>2</td>\n",
       "      <td>9.0</td>\n",
       "      <td>500</td>\n",
       "      <td>0.18</td>\n",
       "      <td>1435.1</td>\n",
       "      <td>14.66</td>\n",
       "      <td>0.13</td>\n",
       "      <td>cast iron</td>\n",
       "    </tr>\n",
       "    <tr>\n",
       "      <th>2</th>\n",
       "      <td>3</td>\n",
       "      <td>9.0</td>\n",
       "      <td>500</td>\n",
       "      <td>0.25</td>\n",
       "      <td>1588.3</td>\n",
       "      <td>16.04</td>\n",
       "      <td>0.06</td>\n",
       "      <td>cast iron</td>\n",
       "    </tr>\n",
       "    <tr>\n",
       "      <th>3</th>\n",
       "      <td>4</td>\n",
       "      <td>9.0</td>\n",
       "      <td>500</td>\n",
       "      <td>0.36</td>\n",
       "      <td>1669.8</td>\n",
       "      <td>17.12</td>\n",
       "      <td>0.09</td>\n",
       "      <td>cast iron</td>\n",
       "    </tr>\n",
       "    <tr>\n",
       "      <th>4</th>\n",
       "      <td>5</td>\n",
       "      <td>9.0</td>\n",
       "      <td>400</td>\n",
       "      <td>0.13</td>\n",
       "      <td>1150.9</td>\n",
       "      <td>11.22</td>\n",
       "      <td>0.12</td>\n",
       "      <td>cast iron</td>\n",
       "    </tr>\n",
       "    <tr>\n",
       "      <th>...</th>\n",
       "      <td>...</td>\n",
       "      <td>...</td>\n",
       "      <td>...</td>\n",
       "      <td>...</td>\n",
       "      <td>...</td>\n",
       "      <td>...</td>\n",
       "      <td>...</td>\n",
       "      <td>...</td>\n",
       "    </tr>\n",
       "    <tr>\n",
       "      <th>160</th>\n",
       "      <td>161</td>\n",
       "      <td>10.0</td>\n",
       "      <td>1000</td>\n",
       "      <td>0.50</td>\n",
       "      <td>1960.0</td>\n",
       "      <td>18.13</td>\n",
       "      <td>0.13</td>\n",
       "      <td>copper</td>\n",
       "    </tr>\n",
       "    <tr>\n",
       "      <th>161</th>\n",
       "      <td>162</td>\n",
       "      <td>7.5</td>\n",
       "      <td>1000</td>\n",
       "      <td>0.50</td>\n",
       "      <td>784.0</td>\n",
       "      <td>7.35</td>\n",
       "      <td>0.10</td>\n",
       "      <td>copper</td>\n",
       "    </tr>\n",
       "    <tr>\n",
       "      <th>162</th>\n",
       "      <td>163</td>\n",
       "      <td>5.0</td>\n",
       "      <td>1000</td>\n",
       "      <td>0.50</td>\n",
       "      <td>651.0</td>\n",
       "      <td>6.17</td>\n",
       "      <td>0.07</td>\n",
       "      <td>copper</td>\n",
       "    </tr>\n",
       "    <tr>\n",
       "      <th>163</th>\n",
       "      <td>164</td>\n",
       "      <td>10.0</td>\n",
       "      <td>1000</td>\n",
       "      <td>0.71</td>\n",
       "      <td>2009.0</td>\n",
       "      <td>20.58</td>\n",
       "      <td>0.17</td>\n",
       "      <td>copper</td>\n",
       "    </tr>\n",
       "    <tr>\n",
       "      <th>164</th>\n",
       "      <td>165</td>\n",
       "      <td>7.5</td>\n",
       "      <td>1000</td>\n",
       "      <td>0.71</td>\n",
       "      <td>970.0</td>\n",
       "      <td>8.05</td>\n",
       "      <td>0.12</td>\n",
       "      <td>copper</td>\n",
       "    </tr>\n",
       "  </tbody>\n",
       "</table>\n",
       "<p>165 rows × 8 columns</p>\n",
       "</div>"
      ],
      "text/plain": [
       "     No.  Diameter (mm)  Speed (rpm)  Feed (mm/rev)  Thrust force (N)  \\\n",
       "0      1            9.0          500           0.13            1088.1   \n",
       "1      2            9.0          500           0.18            1435.1   \n",
       "2      3            9.0          500           0.25            1588.3   \n",
       "3      4            9.0          500           0.36            1669.8   \n",
       "4      5            9.0          400           0.13            1150.9   \n",
       "..   ...            ...          ...            ...               ...   \n",
       "160  161           10.0         1000           0.50            1960.0   \n",
       "161  162            7.5         1000           0.50             784.0   \n",
       "162  163            5.0         1000           0.50             651.0   \n",
       "163  164           10.0         1000           0.71            2009.0   \n",
       "164  165            7.5         1000           0.71             970.0   \n",
       "\n",
       "     Torque (Nm)  Flank wear (mm)  Workpiece  \n",
       "0          10.67             0.10  cast iron  \n",
       "1          14.66             0.13  cast iron  \n",
       "2          16.04             0.06  cast iron  \n",
       "3          17.12             0.09  cast iron  \n",
       "4          11.22             0.12  cast iron  \n",
       "..           ...              ...        ...  \n",
       "160        18.13             0.13     copper  \n",
       "161         7.35             0.10     copper  \n",
       "162         6.17             0.07     copper  \n",
       "163        20.58             0.17     copper  \n",
       "164         8.05             0.12     copper  \n",
       "\n",
       "[165 rows x 8 columns]"
      ]
     },
     "execution_count": 265,
     "metadata": {},
     "output_type": "execute_result"
    }
   ],
   "source": [
    "df = load_data()\n",
    "df"
   ]
  },
  {
   "cell_type": "code",
   "execution_count": 266,
   "id": "e8f79018",
   "metadata": {},
   "outputs": [],
   "source": [
    "from src.clean_data import clean_dataset, add_features\n",
    "df_clean = clean_dataset(df)"
   ]
  },
  {
   "cell_type": "code",
   "execution_count": 267,
   "id": "edbff67b",
   "metadata": {},
   "outputs": [
    {
     "data": {
      "text/plain": [
       "(165, 8)"
      ]
     },
     "execution_count": 267,
     "metadata": {},
     "output_type": "execute_result"
    }
   ],
   "source": [
    "df.shape"
   ]
  },
  {
   "cell_type": "code",
   "execution_count": 268,
   "id": "0450f3e3",
   "metadata": {},
   "outputs": [],
   "source": [
    "df_clean = add_features(df_clean)  # ⬅️ Feature Engineering : this includes new features"
   ]
  },
  {
   "cell_type": "code",
   "execution_count": 269,
   "id": "519d354c",
   "metadata": {},
   "outputs": [],
   "source": [
    "# Identify one-hot workpiece columns (e.g., 'workpiece_b', 'workpiece_c', etc.)\n",
    "workpiece_cols = [col for col in df_clean.columns if col.startswith('workpiece_')]"
   ]
  },
  {
   "cell_type": "code",
   "execution_count": 270,
   "id": "d271b1de",
   "metadata": {},
   "outputs": [],
   "source": [
    "df_clean[\"thrust_force_(n)\"] = df_clean[\"thrust_force_(n)\"] / 1000"
   ]
  },
  {
   "cell_type": "code",
   "execution_count": 271,
   "id": "d75d69bb",
   "metadata": {},
   "outputs": [
    {
     "name": "stdout",
     "output_type": "stream",
     "text": [
      "Cleaned Columns: ['no.', 'diameter_(mm)', 'speed_(rpm)', 'feed_(mm/rev)', 'thrust_force_(n)', 'torque_(nm)', 'flank_wear_(mm)', 'workpiece_copper', 'workpiece_mild steel', 'speed_per_dia', 'log_feed', 'torque_feed_ratio', 'material_hardness', 'feed_squared', 'speed_squared']\n"
     ]
    }
   ],
   "source": [
    "# Confirm all required columns exist\n",
    "print(\"Cleaned Columns:\", df_clean.columns.tolist())"
   ]
  },
  {
   "cell_type": "code",
   "execution_count": 272,
   "id": "b441311b",
   "metadata": {},
   "outputs": [
    {
     "data": {
      "text/plain": [
       "(164, 15)"
      ]
     },
     "execution_count": 272,
     "metadata": {},
     "output_type": "execute_result"
    }
   ],
   "source": [
    "df_clean.shape"
   ]
  },
  {
   "cell_type": "code",
   "execution_count": 273,
   "id": "46d2b1f4",
   "metadata": {},
   "outputs": [
    {
     "name": "stdout",
     "output_type": "stream",
     "text": [
      "Correlation with Flankwear\n"
     ]
    },
    {
     "data": {
      "text/plain": [
       "flank_wear_(mm)         1.000000\n",
       "diameter_(mm)           0.376967\n",
       "thrust_force_(n)        0.366448\n",
       "torque_feed_ratio       0.335095\n",
       "torque_(nm)             0.214763\n",
       "material_hardness       0.163496\n",
       "workpiece_copper       -0.032785\n",
       "no.                    -0.095608\n",
       "feed_squared           -0.114098\n",
       "workpiece_mild steel   -0.119936\n",
       "feed_(mm/rev)          -0.129171\n",
       "log_feed               -0.133833\n",
       "speed_squared          -0.197722\n",
       "speed_(rpm)            -0.204360\n",
       "speed_per_dia          -0.334941\n",
       "Name: flank_wear_(mm), dtype: float64"
      ]
     },
     "metadata": {},
     "output_type": "display_data"
    }
   ],
   "source": [
    "# Correlation of all features with Flank Wear\n",
    "corr_matrix = df_clean.corr(numeric_only=True)\n",
    "flank_corr = corr_matrix['flank_wear_(mm)'].sort_values(ascending=False)\n",
    "print(\"Correlation with Flankwear\")\n",
    "display(flank_corr)\n"
   ]
  },
  {
   "cell_type": "code",
   "execution_count": 274,
   "id": "e6aec04e",
   "metadata": {},
   "outputs": [
    {
     "data": {
      "image/png": "[encoded data removed]",
      "text/plain": [
       "<Figure size 500x300 with 1 Axes>"
      ]
     },
     "metadata": {},
     "output_type": "display_data"
    }
   ],
   "source": [
    "# for feature in ['diameter_(mm)', 'speed_(rpm)', 'feed_(mm/rev)', 'workpiece_copper',\n",
    "#                 #'thrust_force_(n)', 'flank_wear_(mm)', 'torque_(nm)' \n",
    "#                 'workpiece_mild steel', 'speed_per_dia', 'log_feed', \n",
    "#                 'torque_feed_ratio', 'material_hardness', 'torque_(nm)',\n",
    "#                 'feed_squared', 'speed_squared']:\n",
    "import matplotlib.pyplot as plt\n",
    "import seaborn as sns\n",
    "\n",
    "plt.figure(figsize=(5, 3))\n",
    "sns.scatterplot(data=df_clean, x='thrust_force_(n)', y='torque_(nm)')\n",
    "plt.title(\"Torque vs Thrust Force\")\n",
    "plt.grid(True)\n",
    "plt.tight_layout()\n",
    "plt.show()\n"
   ]
  },
  {
   "cell_type": "code",
   "execution_count": 275,
   "id": "24bc850e",
   "metadata": {},
   "outputs": [],
   "source": [
    "# Features and targets\n",
    "X = df_clean[['diameter_(mm)', 'speed_(rpm)', 'feed_(mm/rev)',\n",
    "              'speed_per_dia', 'log_feed',\n",
    "              'torque_feed_ratio', 'material_hardness',\n",
    "              'feed_squared', 'speed_squared'] + workpiece_cols]\n",
    "import numpy as np\n",
    "# Target transformation: log-transform all 3 targets\n",
    "y = df_clean[['thrust_force_(n)', 'torque_(nm)', 'flank_wear_(mm)']].copy()\n",
    "\n",
    "# Log-transform each to handle skewness and stabilize variance\n",
    "for col in y.columns:\n",
    "    y[col] = np.log1p(y[col])  # log1p avoids issues with zeros"
   ]
  },
  {
   "cell_type": "markdown",
   "id": "73454e27",
   "metadata": {},
   "source": [
    "Interpretation: (a)Torque values seem to follow a roughly normal distribution with no significant outliers.\n",
    "(b)Flank wear had outliers or noise at the high end, which were removed during cleaning."
   ]
  },
  {
   "cell_type": "code",
   "execution_count": 276,
   "id": "4ce7b80c",
   "metadata": {},
   "outputs": [
    {
     "name": "stdout",
     "output_type": "stream",
     "text": [
      "Best Params: {'max_depth': None, 'max_features': 'sqrt', 'min_samples_split': 2, 'n_estimators': 300}\n"
     ]
    },
    {
     "data": {
      "text/html": [
       "<div>\n",
       "<style scoped>\n",
       "    .dataframe tbody tr th:only-of-type {\n",
       "        vertical-align: middle;\n",
       "    }\n",
       "\n",
       "    .dataframe tbody tr th {\n",
       "        vertical-align: top;\n",
       "    }\n",
       "\n",
       "    .dataframe thead th {\n",
       "        text-align: right;\n",
       "    }\n",
       "</style>\n",
       "<table border=\"1\" class=\"dataframe\">\n",
       "  <thead>\n",
       "    <tr style=\"text-align: right;\">\n",
       "      <th></th>\n",
       "      <th>params</th>\n",
       "      <th>mean_test_score</th>\n",
       "      <th>rank_test_score</th>\n",
       "    </tr>\n",
       "  </thead>\n",
       "  <tbody>\n",
       "    <tr>\n",
       "      <th>2</th>\n",
       "      <td>{'max_depth': None, 'max_features': 'sqrt', 'm...</td>\n",
       "      <td>0.011457</td>\n",
       "      <td>1</td>\n",
       "    </tr>\n",
       "    <tr>\n",
       "      <th>56</th>\n",
       "      <td>{'max_depth': 30, 'max_features': 'sqrt', 'min...</td>\n",
       "      <td>0.011457</td>\n",
       "      <td>1</td>\n",
       "    </tr>\n",
       "    <tr>\n",
       "      <th>38</th>\n",
       "      <td>{'max_depth': 20, 'max_features': 'sqrt', 'min...</td>\n",
       "      <td>0.011457</td>\n",
       "      <td>1</td>\n",
       "    </tr>\n",
       "    <tr>\n",
       "      <th>65</th>\n",
       "      <td>{'max_depth': 30, 'max_features': 'log2', 'min...</td>\n",
       "      <td>0.011457</td>\n",
       "      <td>1</td>\n",
       "    </tr>\n",
       "    <tr>\n",
       "      <th>47</th>\n",
       "      <td>{'max_depth': 20, 'max_features': 'log2', 'min...</td>\n",
       "      <td>0.011457</td>\n",
       "      <td>1</td>\n",
       "    </tr>\n",
       "  </tbody>\n",
       "</table>\n",
       "</div>"
      ],
      "text/plain": [
       "                                               params  mean_test_score  \\\n",
       "2   {'max_depth': None, 'max_features': 'sqrt', 'm...         0.011457   \n",
       "56  {'max_depth': 30, 'max_features': 'sqrt', 'min...         0.011457   \n",
       "38  {'max_depth': 20, 'max_features': 'sqrt', 'min...         0.011457   \n",
       "65  {'max_depth': 30, 'max_features': 'log2', 'min...         0.011457   \n",
       "47  {'max_depth': 20, 'max_features': 'log2', 'min...         0.011457   \n",
       "\n",
       "    rank_test_score  \n",
       "2                 1  \n",
       "56                1  \n",
       "38                1  \n",
       "65                1  \n",
       "47                1  "
      ]
     },
     "execution_count": 276,
     "metadata": {},
     "output_type": "execute_result"
    }
   ],
   "source": [
    "# Model tuning\n",
    "from src.tune_models import tune_random_forest\n",
    "best_rf, best_params, cv_results = tune_random_forest(X, y)\n",
    "print(\"Best Params:\", best_params)\n",
    "\n",
    "import pandas as pd\n",
    "cv_df = pd.DataFrame(cv_results)\n",
    "cv_df = cv_df.sort_values(by='mean_test_score', ascending=False)\n",
    "cv_df[['params', 'mean_test_score', 'rank_test_score']].head()"
   ]
  },
  {
   "cell_type": "code",
   "execution_count": 277,
   "id": "dbf53a38",
   "metadata": {},
   "outputs": [],
   "source": [
    "# Model training and evaluation\n",
    "from src.model_train import train_models\n",
    "\n",
    "results = train_models(X, y)\n",
    "\n",
    "# Extract test set and predictions (still log-scale here)\n",
    "X_test = results['X_test']\n",
    "y_test_log = results['y_test']      # ✅ rename for clarity\n",
    "models = results['models']\n",
    "metrics = results['metrics']\n",
    "\n",
    "# ✅ Inverse transform log-scale targets for real-world evaluation\n",
    "import numpy as np\n",
    "y_test_orig = np.expm1(np.clip(y_test_log.values, 0, 20))"
   ]
  },
  {
   "cell_type": "code",
   "execution_count": 278,
   "id": "a2e16be9",
   "metadata": {},
   "outputs": [
    {
     "data": {
      "text/html": [
       "<div>\n",
       "<style scoped>\n",
       "    .dataframe tbody tr th:only-of-type {\n",
       "        vertical-align: middle;\n",
       "    }\n",
       "\n",
       "    .dataframe tbody tr th {\n",
       "        vertical-align: top;\n",
       "    }\n",
       "\n",
       "    .dataframe thead th {\n",
       "        text-align: right;\n",
       "    }\n",
       "</style>\n",
       "<table border=\"1\" class=\"dataframe\">\n",
       "  <thead>\n",
       "    <tr style=\"text-align: right;\">\n",
       "      <th></th>\n",
       "      <th>Model</th>\n",
       "      <th>Target</th>\n",
       "      <th>R</th>\n",
       "      <th>R2</th>\n",
       "      <th>MAE</th>\n",
       "      <th>MSE</th>\n",
       "      <th>RMSE</th>\n",
       "    </tr>\n",
       "  </thead>\n",
       "  <tbody>\n",
       "    <tr>\n",
       "      <th>2</th>\n",
       "      <td>AdaBoost</td>\n",
       "      <td>torque_(nm)</td>\n",
       "      <td>0.935694</td>\n",
       "      <td>0.816949</td>\n",
       "      <td>2.317338</td>\n",
       "      <td>12.839790</td>\n",
       "      <td>3.583265</td>\n",
       "    </tr>\n",
       "    <tr>\n",
       "      <th>0</th>\n",
       "      <td>RandomForest</td>\n",
       "      <td>torque_(nm)</td>\n",
       "      <td>0.934361</td>\n",
       "      <td>0.845022</td>\n",
       "      <td>1.837797</td>\n",
       "      <td>10.870659</td>\n",
       "      <td>3.297068</td>\n",
       "    </tr>\n",
       "    <tr>\n",
       "      <th>1</th>\n",
       "      <td>XGBoost</td>\n",
       "      <td>torque_(nm)</td>\n",
       "      <td>0.938658</td>\n",
       "      <td>0.857120</td>\n",
       "      <td>1.873045</td>\n",
       "      <td>10.022077</td>\n",
       "      <td>3.165766</td>\n",
       "    </tr>\n",
       "  </tbody>\n",
       "</table>\n",
       "</div>"
      ],
      "text/plain": [
       "          Model       Target         R        R2       MAE        MSE  \\\n",
       "2      AdaBoost  torque_(nm)  0.935694  0.816949  2.317338  12.839790   \n",
       "0  RandomForest  torque_(nm)  0.934361  0.845022  1.837797  10.870659   \n",
       "1       XGBoost  torque_(nm)  0.938658  0.857120  1.873045  10.022077   \n",
       "\n",
       "       RMSE  \n",
       "2  3.583265  \n",
       "0  3.297068  \n",
       "1  3.165766  "
      ]
     },
     "metadata": {},
     "output_type": "display_data"
    }
   ],
   "source": [
    "import pandas as pd\n",
    "\n",
    "rows = []\n",
    "\n",
    "for model_name, model_metrics in metrics.items():\n",
    "    for i, target in enumerate(y.columns):\n",
    "        if target == 'torque_(nm)':  # only process 'torque'\n",
    "            row = {\n",
    "                'Model': model_name,\n",
    "                'Target': target,\n",
    "                'R': model_metrics.get('R', [None]*len(y.columns))[i],\n",
    "                'R2': model_metrics.get('R2', [None]*len(y.columns))[i],\n",
    "                'MAE': model_metrics.get('MAE', [None]*len(y.columns))[i],\n",
    "                'MSE': model_metrics.get('MSE', [None]*len(y.columns))[i],\n",
    "                'RMSE': model_metrics.get('RMSE', [None]*len(y.columns))[i]\n",
    "            }\n",
    "            rows.append(row)\n",
    "\n",
    "summary_df = pd.DataFrame(rows)\n",
    "display(summary_df.sort_values(by='Model'))\n"
   ]
  },
  {
   "cell_type": "code",
   "execution_count": 279,
   "id": "3b9436d9",
   "metadata": {},
   "outputs": [],
   "source": [
    "from src.train_flankwear import train_flankwear_models\n",
    "X = df_clean[['diameter_(mm)',\n",
    " 'speed_(rpm)',\n",
    " 'feed_(mm/rev)',\n",
    " 'thrust_force_(n)',\n",
    " 'torque_(nm)',\n",
    " #'flank_wear_(mm)',\n",
    " 'workpiece_copper',\n",
    " 'workpiece_mild steel',\n",
    " 'speed_per_dia',\n",
    " 'log_feed',\n",
    " 'torque_feed_ratio',\n",
    " 'material_hardness',\n",
    " 'feed_squared',\n",
    " 'speed_squared']]\n",
    "\n",
    "y_flank = df_clean['flank_wear_(mm)']\n"
   ]
  },
  {
   "cell_type": "code",
   "execution_count": 280,
   "id": "f012bd6b",
   "metadata": {},
   "outputs": [
    {
     "name": "stdout",
     "output_type": "stream",
     "text": [
      "Results of Flankwear:\n",
      "----------------------\n",
      "       Model        R       R2      MAE      MSE     RMSE      MAPE\n",
      "RandomForest 0.702490 0.401190 0.027771 0.001488 0.038570 33.523487\n",
      "     XGBoost 0.871476 0.779162 0.023187 0.000876 0.029592 27.557532\n",
      "    AdaBoost 0.570990 0.351403 0.030576 0.001568 0.039601 36.621997\n"
     ]
    }
   ],
   "source": [
    "results = train_flankwear_models(X, y_flank)\n",
    "\n",
    "# Collect results into a list of dictionaries\n",
    "table_data = []\n",
    "\n",
    "for model_name, result in results.items():\n",
    "    metrics = result['metrics']\n",
    "    metrics['Model'] = model_name\n",
    "    table_data.append(metrics)\n",
    "\n",
    "# Convert to DataFrame\n",
    "results_df = pd.DataFrame(table_data)\n",
    "\n",
    "# Reorder columns (optional)\n",
    "cols = ['Model', 'R', 'R2', 'MAE', 'MSE', 'RMSE', 'MAPE']\n",
    "results_df = results_df[cols]\n",
    "\n",
    "# Display the table\n",
    "print(\"Results of Flankwear:\")\n",
    "print(\"----------------------\")\n",
    "print(results_df.to_string(index=False)) \n"
   ]
  },
  {
   "cell_type": "code",
   "execution_count": null,
   "id": "f7cd3a30",
   "metadata": {},
   "outputs": [],
   "source": [
    "from src.train_thrustforce import train_thrustforce_models\n",
    "X = df_clean[['diameter_(mm)',\n",
    " 'speed_(rpm)',\n",
    " 'feed_(mm/rev)',\n",
    " #'thrust_force_(n)',\n",
    " 'torque_(nm)',\n",
    " 'flank_wear_(mm)',\n",
    " 'workpiece_copper',\n",
    " 'workpiece_mild steel',\n",
    " 'speed_per_dia',\n",
    " 'log_feed',\n",
    " 'torque_feed_ratio',\n",
    " 'material_hardness',\n",
    " 'feed_squared',\n",
    " 'speed_squared']]\n",
    "\n",
    "y_thrust = df_clean['thrust_force_(n)']\n"
   ]
  },
  {
   "cell_type": "code",
   "execution_count": 282,
   "id": "70f1c2ff",
   "metadata": {},
   "outputs": [
    {
     "name": "stdout",
     "output_type": "stream",
     "text": [
      "Results of Thrustforce:\n",
      "----------------------\n",
      "       Model        R       R2      MAE      MSE     RMSE      MAPE\n",
      "RandomForest 0.980395 0.959887 0.138591 0.028976 0.170223 13.379178\n",
      "     XGBoost 0.987809 0.975764 0.101853 0.017507 0.132314 10.995946\n",
      "    AdaBoost 0.967916 0.935613 0.182768 0.046511 0.215663 17.880356\n"
     ]
    }
   ],
   "source": [
    "results = train_thrustforce_models(X, y_thrust)\n",
    "\n",
    "# Collect results into a list of dictionaries\n",
    "table_data = []\n",
    "\n",
    "for model_name, result in results.items():\n",
    "    metrics = result['metrics']\n",
    "    metrics['Model'] = model_name\n",
    "    table_data.append(metrics)\n",
    "\n",
    "# Convert to DataFrame\n",
    "results_df = pd.DataFrame(table_data)\n",
    "\n",
    "# Reorder columns (optional)\n",
    "cols = ['Model', 'R', 'R2', 'MAE', 'MSE', 'RMSE', 'MAPE']\n",
    "results_df = results_df[cols]\n",
    "\n",
    "# Display the table\n",
    "print(\"Results of Thrustforce:\")\n",
    "print(\"----------------------\")\n",
    "print(results_df.to_string(index=False)) \n"
   ]
  }
 ],
 "metadata": {
  "kernelspec": {
   "display_name": "venv",
   "language": "python",
   "name": "python3"
  },
  "language_info": {
   "codemirror_mode": {
    "name": "ipython",
    "version": 3
   },
   "file_extension": ".py",
   "mimetype": "text/x-python",
   "name": "python",
   "nbconvert_exporter": "python",
   "pygments_lexer": "ipython3",
   "version": "3.10.5"
  }
 },
 "nbformat": 4,
 "nbformat_minor": 5
}
